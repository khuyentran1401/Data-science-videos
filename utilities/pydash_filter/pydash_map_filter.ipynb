{
 "cells": [
  {
   "cell_type": "markdown",
   "id": "4f8775fa",
   "metadata": {},
   "source": [
    "# Problem"
   ]
  },
  {
   "cell_type": "code",
   "execution_count": 42,
   "id": "9cad36e3",
   "metadata": {},
   "outputs": [],
   "source": [
    "fruits = [\n",
    "    {\"name\": \"apple\", \"price\": 2},\n",
    "    {\"name\": \"apple\"},\n",
    "    {\"name\": \"grapes\", \"price\": 4},\n",
    "]\n"
   ]
  },
  {
   "cell_type": "code",
   "execution_count": null,
   "id": "da8aa9fb",
   "metadata": {},
   "outputs": [],
   "source": []
  },
  {
   "cell_type": "markdown",
   "id": "aaa94603",
   "metadata": {},
   "source": [
    "# Solutions"
   ]
  },
  {
   "cell_type": "markdown",
   "id": "acc46f4a",
   "metadata": {},
   "source": [
    "## Use List Comprehension"
   ]
  },
  {
   "cell_type": "code",
   "execution_count": 51,
   "id": "4b45a3cf",
   "metadata": {},
   "outputs": [
    {
     "data": {
      "text/plain": [
       "[{'name': 'apple', 'price': 2}]"
      ]
     },
     "execution_count": 51,
     "metadata": {},
     "output_type": "execute_result"
    }
   ],
   "source": [
    "[\n",
    "    fruit for fruit in fruits \n",
    "    if fruit['name'] == 'apple'\n",
    "    and 'price' in fruit \n",
    "    and fruit['price'] == 2\n",
    "]"
   ]
  },
  {
   "cell_type": "markdown",
   "id": "b9113dff",
   "metadata": {},
   "source": [
    "## Use Filter"
   ]
  },
  {
   "cell_type": "code",
   "execution_count": 53,
   "id": "0e5ef0ca",
   "metadata": {},
   "outputs": [
    {
     "data": {
      "text/plain": [
       "[{'name': 'apple', 'price': 2}]"
      ]
     },
     "execution_count": 53,
     "metadata": {},
     "output_type": "execute_result"
    }
   ],
   "source": [
    "list(\n",
    "    filter(\n",
    "        lambda fruit: fruit['name'] == 'apple'\n",
    "        and 'price' in fruit \n",
    "        and fruit['price'] == 2,\n",
    "        fruits\n",
    "        )\n",
    ")"
   ]
  },
  {
   "cell_type": "markdown",
   "id": "3cbd7d2d",
   "metadata": {},
   "source": [
    "## Use pydash"
   ]
  },
  {
   "cell_type": "code",
   "execution_count": null,
   "id": "4fd05fa3",
   "metadata": {
    "ExecuteTime": {
     "end_time": "2022-07-08T16:07:53.793113Z",
     "start_time": "2022-07-08T16:07:52.722158Z"
    }
   },
   "outputs": [],
   "source": [
    "pip install pydash"
   ]
  },
  {
   "cell_type": "code",
   "execution_count": 31,
   "id": "8b9a945f",
   "metadata": {},
   "outputs": [],
   "source": [
    "from pydash import py_"
   ]
  },
  {
   "cell_type": "code",
   "execution_count": 54,
   "id": "07671b43",
   "metadata": {},
   "outputs": [
    {
     "data": {
      "text/plain": [
       "[{'name': 'apple', 'price': 2}]"
      ]
     },
     "execution_count": 54,
     "metadata": {},
     "output_type": "execute_result"
    }
   ],
   "source": [
    "py_.filter(fruits, {\"name\": \"apple\", \"price\": 2})"
   ]
  }
 ],
 "metadata": {
  "hide_input": false,
  "kernelspec": {
   "display_name": "Python 3.9.13 64-bit",
   "language": "python",
   "name": "python3"
  },
  "language_info": {
   "codemirror_mode": {
    "name": "ipython",
    "version": 3
   },
   "file_extension": ".py",
   "mimetype": "text/x-python",
   "name": "python",
   "nbconvert_exporter": "python",
   "pygments_lexer": "ipython3",
   "version": "3.9.13"
  },
  "toc": {
   "base_numbering": 1,
   "nav_menu": {},
   "number_sections": true,
   "sideBar": true,
   "skip_h1_title": false,
   "title_cell": "Table of Contents",
   "title_sidebar": "Contents",
   "toc_cell": false,
   "toc_position": {},
   "toc_section_display": true,
   "toc_window_display": false
  },
  "vscode": {
   "interpreter": {
    "hash": "b0fa6594d8f4cbf19f97940f81e996739fb7646882a419484c72d19e05852a7e"
   }
  }
 },
 "nbformat": 4,
 "nbformat_minor": 5
}
