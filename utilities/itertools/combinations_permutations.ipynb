{
 "cells": [
  {
   "cell_type": "code",
   "execution_count": 3,
   "id": "ebc6e3da",
   "metadata": {
    "ExecuteTime": {
     "end_time": "2022-07-08T21:42:06.749754Z",
     "start_time": "2022-07-08T21:42:06.745740Z"
    }
   },
   "outputs": [],
   "source": [
    "fruits = [\"apple\", \"banana\", \"orange\"]"
   ]
  },
  {
   "cell_type": "code",
   "execution_count": 4,
   "id": "fea1d687",
   "metadata": {
    "ExecuteTime": {
     "end_time": "2022-07-08T21:42:07.023628Z",
     "start_time": "2022-07-08T21:42:07.019370Z"
    }
   },
   "outputs": [],
   "source": [
    "def print_statement(fruits: list):\n",
    "    print(f\"{fruits[0]} and {fruits[1]} are tasty\")"
   ]
  },
  {
   "cell_type": "code",
   "execution_count": 5,
   "id": "528fb3c7",
   "metadata": {
    "ExecuteTime": {
     "end_time": "2022-07-08T21:42:07.267081Z",
     "start_time": "2022-07-08T21:42:07.262664Z"
    }
   },
   "outputs": [],
   "source": [
    "def print_statement(fruits: list):\n",
    "    print(f\"{fruits[0]} and {fruits[1]} are tasty\")"
   ]
  },
  {
   "cell_type": "code",
   "execution_count": 6,
   "id": "73abad9d",
   "metadata": {
    "ExecuteTime": {
     "end_time": "2022-07-08T21:42:07.461165Z",
     "start_time": "2022-07-08T21:42:07.456245Z"
    }
   },
   "outputs": [
    {
     "name": "stdout",
     "output_type": "stream",
     "text": [
      "apple and banana are tasty\n",
      "apple and orange are tasty\n",
      "banana and orange are tasty\n"
     ]
    }
   ],
   "source": [
    "for fruit1 in fruits: \n",
    "    for fruit2 in fruits:\n",
    "        if fruit1 < fruit2:\n",
    "            print_statement((fruit1, fruit2))"
   ]
  },
  {
   "cell_type": "code",
   "execution_count": 7,
   "id": "f02b6dec",
   "metadata": {
    "ExecuteTime": {
     "end_time": "2022-07-08T21:42:07.867087Z",
     "start_time": "2022-07-08T21:42:07.861498Z"
    }
   },
   "outputs": [
    {
     "name": "stdout",
     "output_type": "stream",
     "text": [
      "apple and banana are tasty\n",
      "apple and orange are tasty\n",
      "banana and orange are tasty\n"
     ]
    }
   ],
   "source": [
    "from itertools import combinations\n",
    "\n",
    "for pair in combinations(fruits, 2):\n",
    "    print_statement(pair)"
   ]
  },
  {
   "cell_type": "code",
   "execution_count": 8,
   "id": "16c4046b",
   "metadata": {
    "ExecuteTime": {
     "end_time": "2022-07-08T21:42:08.295194Z",
     "start_time": "2022-07-08T21:42:08.290329Z"
    }
   },
   "outputs": [
    {
     "name": "stdout",
     "output_type": "stream",
     "text": [
      "apple and banana are tasty\n",
      "apple and orange are tasty\n",
      "banana and apple are tasty\n",
      "banana and orange are tasty\n",
      "orange and apple are tasty\n",
      "orange and banana are tasty\n"
     ]
    }
   ],
   "source": [
    "from itertools import permutations\n",
    "\n",
    "for pair in permutations(fruits, 2):\n",
    "    print_statement(pair)"
   ]
  }
 ],
 "metadata": {
  "hide_input": false,
  "kernelspec": {
   "display_name": "Python 3 (ipykernel)",
   "language": "python",
   "name": "python3"
  },
  "language_info": {
   "codemirror_mode": {
    "name": "ipython",
    "version": 3
   },
   "file_extension": ".py",
   "mimetype": "text/x-python",
   "name": "python",
   "nbconvert_exporter": "python",
   "pygments_lexer": "ipython3",
   "version": "3.9.13"
  },
  "toc": {
   "base_numbering": 1,
   "nav_menu": {},
   "number_sections": true,
   "sideBar": true,
   "skip_h1_title": false,
   "title_cell": "Table of Contents",
   "title_sidebar": "Contents",
   "toc_cell": false,
   "toc_position": {},
   "toc_section_display": true,
   "toc_window_display": false
  }
 },
 "nbformat": 4,
 "nbformat_minor": 5
}
